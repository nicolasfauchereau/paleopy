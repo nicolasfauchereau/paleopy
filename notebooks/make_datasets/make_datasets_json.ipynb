{
 "cells": [
  {
   "cell_type": "markdown",
   "metadata": {},
   "source": [
    "# defines the datasets"
   ]
  },
  {
   "cell_type": "code",
   "execution_count": 6,
   "metadata": {
    "collapsed": true
   },
   "outputs": [],
   "source": [
    "import json"
   ]
  },
  {
   "cell_type": "markdown",
   "metadata": {},
   "source": [
    "### dpath, change that to `/data/pict/datasets/` if running within PICT"
   ]
  },
  {
   "cell_type": "code",
   "execution_count": 2,
   "metadata": {
    "collapsed": true
   },
   "outputs": [],
   "source": [
    "dpath = '/data/pict/datasets/'"
   ]
  },
  {
   "cell_type": "code",
   "execution_count": 3,
   "metadata": {},
   "outputs": [],
   "source": [
    "# dpath = '/Users/nicolasf/CODE/paleopy/data/"
   ]
  },
  {
   "cell_type": "code",
   "execution_count": 8,
   "metadata": {},
   "outputs": [],
   "source": [
    "datasets = {}\n",
    "\n",
    "\n",
    "# vcsn: TMean and Rain\n",
    "datasets['vcsn'] = {}\n",
    "\n",
    "datasets['vcsn']['TMean'] = {}\n",
    "datasets['vcsn']['TMean']['path'] = '{}/VCSN_monthly_TMean_1972_2014_grid.nc'.format(dpath)\n",
    "datasets['vcsn']['TMean']['description'] = 'Mean temperature'\n",
    "datasets['vcsn']['TMean']['units'] = 'degrees C.'\n",
    "datasets['vcsn']['TMean']['valid_period'] = (1972, 2014)\n",
    "datasets['vcsn']['TMean']['domain'] = [166.4, 178.5, -47.4, -34.4]\n",
    "datasets['vcsn']['TMean']['plot'] = {}\n",
    "datasets['vcsn']['TMean']['plot']['cmap'] = 'palettable.colorbrewer.diverging.RdBu_11_r.mpl_colormap'\n",
    "\n",
    "datasets['vcsn']['Rain'] = {}\n",
    "datasets['vcsn']['Rain']['path'] = '{}/VCSN_monthly_Rain_1972_2014_grid.nc'.format(dpath)\n",
    "datasets['vcsn']['Rain']['description'] = 'cumulative monthly precipitation'\n",
    "datasets['vcsn']['Rain']['units'] = 'mm'\n",
    "datasets['vcsn']['Rain']['valid_period'] = (1972, 2014)\n",
    "datasets['vcsn']['Rain']['domain'] = [166.4, 178.5, -47.4, -34.4]\n",
    "datasets['vcsn']['Rain']['plot'] = {}\n",
    "datasets['vcsn']['Rain']['plot']['cmap'] = 'palettable.colorbrewer.diverging.BrBG_11.mpl_colormap'\n",
    "\n",
    "datasets['vcsn']['Vapour_Pressure'] = {}\n",
    "datasets['vcsn']['Vapour_Pressure']['path'] = '{}/VCSN_monthly_VP_1972_2014_grid.nc'.format(dpath)\n",
    "datasets['vcsn']['Vapour_Pressure']['description'] = 'Vapour Pressure'\n",
    "datasets['vcsn']['Vapour_Pressure']['units'] = 'hPa'\n",
    "datasets['vcsn']['Vapour_Pressure']['valid_period'] = (1972, 2014)\n",
    "datasets['vcsn']['Vapour_Pressure']['domain'] = [166.4, 178.5, -47.4, -34.4]\n",
    "datasets['vcsn']['Vapour_Pressure']['plot'] = {}\n",
    "datasets['vcsn']['Vapour_Pressure']['plot']['cmap'] = 'palettable.colorbrewer.diverging.BrBG_11.mpl_colormap'\n",
    "\n",
    "datasets['awap'] = {}\n",
    "\n",
    "datasets['awap']['TMean'] = {}\n",
    "datasets['awap']['TMean']['path'] = '{}/AWAP_monthly_TMean_1972_2014.nc'.format(dpath)\n",
    "datasets['awap']['TMean']['description'] = 'Mean temperature'\n",
    "datasets['awap']['TMean']['units'] = 'degrees C.'\n",
    "datasets['awap']['TMean']['valid_period'] = (1972, 2014)\n",
    "datasets['awap']['TMean']['domain'] = [112., 156.25, -44.5, -10]\n",
    "datasets['awap']['TMean']['plot'] = {}\n",
    "datasets['awap']['TMean']['plot']['cmap'] = 'palettable.colorbrewer.diverging.RdBu_11_r.mpl_colormap'\n",
    "\n",
    "datasets['awap']['Rain'] = {}\n",
    "datasets['awap']['Rain']['path'] = '{}/AWAP_monthly_Rain_1972_2014.nc'.format(dpath)\n",
    "datasets['awap']['Rain']['description'] = 'cumulative monthly precipitation'\n",
    "datasets['awap']['Rain']['units'] = 'mm'\n",
    "datasets['awap']['Rain']['valid_period'] = (1972, 2014)\n",
    "datasets['awap']['Rain']['domain'] = [112., 156.25, -44.5, -10]\n",
    "datasets['awap']['Rain']['plot'] = {}\n",
    "datasets['awap']['Rain']['plot']['cmap'] = 'palettable.colorbrewer.diverging.BrBG_11.mpl_colormap'\n",
    "\n",
    "# ersst: sst\n",
    "datasets['ersst'] = {}\n",
    "datasets['ersst']['sst'] = {}\n",
    "datasets['ersst']['sst']['path'] = '{}/ERSST_monthly_SST_1948_2014.nc'.format(dpath)\n",
    "datasets['ersst']['sst']['description'] = 'Sea Surface Temperature (SST)'\n",
    "datasets['ersst']['sst']['short_description'] = 'SST'\n",
    "datasets['ersst']['sst']['units'] = 'degrees C.'\n",
    "datasets['ersst']['sst']['valid_period'] = (1972, 2014)\n",
    "datasets['ersst']['sst']['domain'] = [0, 360, -90, 90]\n",
    "datasets['ersst']['sst']['plot'] = {}\n",
    "datasets['ersst']['sst']['plot']['cmap'] = 'palettable.colorbrewer.diverging.RdBu_11_r.mpl_colormap'\n",
    "\n",
    "# gpcp: Rain\n",
    "datasets['gpcp'] = {}\n",
    "datasets['gpcp']['Rain'] = {}\n",
    "datasets['gpcp']['Rain']['path'] = '{}/GPCP_monthly_Rain_1979_2014.nc'.format(dpath)\n",
    "datasets['gpcp']['Rain']['description'] = 'Average Monthly Rate of Precipitation'\n",
    "datasets['gpcp']['Rain']['short_description'] = 'GPCP Rain'\n",
    "datasets['gpcp']['Rain']['units'] = 'mm/day'\n",
    "datasets['gpcp']['Rain']['valid_period'] = (1979, 2014)\n",
    "datasets['gpcp']['Rain']['domain'] = [0, 360, -90, 90]\n",
    "datasets['gpcp']['Rain']['plot'] = {}\n",
    "datasets['gpcp']['Rain']['plot']['cmap'] = 'palettable.colorbrewer.diverging.BrBG_11.mpl_colormap'\n",
    "\n",
    "# NCEP: HGT_1000\n",
    "datasets['ncep'] = {}\n",
    "datasets['ncep']['hgt_1000'] = {}\n",
    "datasets['ncep']['hgt_1000']['path'] = '{}/NCEP1_monthly_hgt_1948_2014.nc'.format(dpath)\n",
    "datasets['ncep']['hgt_1000']['description'] = 'geopotential at 1000 hPa'\n",
    "datasets['ncep']['hgt_1000']['short_description'] = 'Z1000'\n",
    "datasets['ncep']['hgt_1000']['units'] = 'meters'\n",
    "datasets['ncep']['hgt_1000']['valid_period'] = (1948, 2014)\n",
    "datasets['ncep']['hgt_1000']['domain'] = [0, 360, -90, 90]\n",
    "datasets['ncep']['hgt_1000']['plot'] = {}\n",
    "datasets['ncep']['hgt_1000']['plot']['cmap'] = 'palettable.colorbrewer.diverging.RdYlBu_11_r.mpl_colormap'\n",
    "\n",
    "# NCEP: HGT_850\n",
    "datasets['ncep']['hgt_850'] = {}\n",
    "datasets['ncep']['hgt_850']['path'] = '{}/NCEP1_monthly_hgt_1948_2014.nc'.format(dpath)\n",
    "datasets['ncep']['hgt_850']['description'] = 'geopotential at 800 hPa'\n",
    "datasets['ncep']['hgt_850']['short_description'] = 'Z850'\n",
    "datasets['ncep']['hgt_850']['units'] = 'meters'\n",
    "datasets['ncep']['hgt_850']['valid_period'] = (1948, 2014)\n",
    "datasets['ncep']['hgt_850']['domain'] = [0, 360, -90, 90]\n",
    "datasets['ncep']['hgt_850']['plot'] = {}\n",
    "datasets['ncep']['hgt_850']['plot']['cmap'] = 'palettable.colorbrewer.diverging.RdYlBu_11_r.mpl_colormap'\n",
    "\n",
    "# NCEP: HGT_850\n",
    "datasets['ncep']['hgt_200'] = {}\n",
    "datasets['ncep']['hgt_200']['path'] = '{}/NCEP1_monthly_hgt_1948_2014.nc'.format(dpath)\n",
    "datasets['ncep']['hgt_200']['description'] = 'geopotential at 200 hPa'\n",
    "datasets['ncep']['hgt_200']['short_description'] = 'Z200'\n",
    "datasets['ncep']['hgt_200']['units'] = 'meters'\n",
    "datasets['ncep']['hgt_200']['valid_period'] = (1948, 2014)\n",
    "datasets['ncep']['hgt_200']['domain'] = [0, 360, -90, 90]\n",
    "datasets['ncep']['hgt_200']['plot'] = {}\n",
    "datasets['ncep']['hgt_200']['plot']['cmap'] = 'palettable.colorbrewer.diverging.RdYlBu_11_r.mpl_colormap'\n",
    "\n",
    "# NCEP: Omega\n",
    "datasets['ncep']['omega_500'] = {}\n",
    "datasets['ncep']['omega_500']['path'] = '{}/NCEP1_monthly_omega_1948_2014.nc'.format(dpath)\n",
    "datasets['ncep']['omega_500']['description'] = 'Omega at 500 hPa'\n",
    "datasets['ncep']['omega_500']['short description'] = 'Om. 500'\n",
    "datasets['ncep']['omega_500']['units'] = 'm/s'\n",
    "datasets['ncep']['omega_500']['valid_period'] = (1948, 2014)\n",
    "datasets['ncep']['omega_500']['domain'] = [0, 360, -90, 90]\n",
    "datasets['ncep']['omega_500']['plot'] = {}\n",
    "datasets['ncep']['omega_500']['plot']['cmap'] = 'palettable.colorbrewer.diverging.PuOr_11.mpl_colormap'\n",
    "\n",
    "# NCEP: uwnd 1000\n",
    "datasets['ncep']['uwnd_1000'] = {}\n",
    "datasets['ncep']['uwnd_1000']['path'] = '{}/NCEP1_monthly_wind_1948_2014.nc'.format(dpath)\n",
    "datasets['ncep']['uwnd_1000']['description'] = 'zonal wind at 1000 hPa'\n",
    "datasets['ncep']['uwnd_1000']['short_description'] = 'uwnd1000'\n",
    "datasets['ncep']['uwnd_1000']['units'] = 'm/s'\n",
    "datasets['ncep']['uwnd_1000']['valid_period'] = (1948, 2014)\n",
    "datasets['ncep']['uwnd_1000']['domain'] = [0, 360, -90, 90]\n",
    "datasets['ncep']['uwnd_1000']['plot'] = {}\n",
    "datasets['ncep']['uwnd_1000']['plot']['cmap'] = 'palettable.colorbrewer.diverging.PRGn_11.mpl_colormap'\n",
    "\n",
    "# NCEP: uwnd 850\n",
    "datasets['ncep']['uwnd_850'] = {}\n",
    "datasets['ncep']['uwnd_850']['path'] = '{}/NCEP1_monthly_wind_1948_2014.nc'.format(dpath)\n",
    "datasets['ncep']['uwnd_850']['description'] = 'zonal wind at 850 hPa'\n",
    "datasets['ncep']['uwnd_850']['short_description'] = 'uwnd850'\n",
    "datasets['ncep']['uwnd_850']['units'] = 'm/s'\n",
    "datasets['ncep']['uwnd_850']['valid_period'] = (1948, 2014)\n",
    "datasets['ncep']['uwnd_850']['domain'] = [0, 360, -90, 90]\n",
    "datasets['ncep']['uwnd_850']['plot'] = {}\n",
    "datasets['ncep']['uwnd_850']['plot']['cmap'] = 'palettable.colorbrewer.diverging.PRGn_11.mpl_colormap'\n",
    "\n",
    "# NCEP: uwnd 200\n",
    "datasets['ncep']['uwnd_200'] = {}\n",
    "datasets['ncep']['uwnd_200']['path'] = '{}/NCEP1_monthly_wind_1948_2014.nc'.format(dpath)\n",
    "datasets['ncep']['uwnd_200']['description'] = 'zonal wind at 200 hPa'\n",
    "datasets['ncep']['uwnd_200']['short_description'] = 'unwd200'\n",
    "datasets['ncep']['uwnd_200']['units'] = 'm/s'\n",
    "datasets['ncep']['uwnd_200']['valid_period'] = (1948, 2014)\n",
    "datasets['ncep']['uwnd_200']['domain'] = [0, 360, -90, 90]\n",
    "datasets['ncep']['uwnd_200']['plot'] = {}\n",
    "datasets['ncep']['uwnd_200']['plot']['cmap'] = 'palettable.colorbrewer.diverging.PRGn_11.mpl_colormap'\n",
    "\n",
    "# NCEP: vwnd 1000\n",
    "datasets['ncep']['vwnd_1000'] = {}\n",
    "datasets['ncep']['vwnd_1000']['path'] = '{}/NCEP1_monthly_wind_1948_2014.nc'.format(dpath)\n",
    "datasets['ncep']['vwnd_1000']['description'] = 'meridional wind at 1000 hPa'\n",
    "datasets['ncep']['vwnd_1000']['short_description'] = 'vwnd1000'\n",
    "datasets['ncep']['vwnd_1000']['units'] = 'm/s'\n",
    "datasets['ncep']['vwnd_1000']['valid_period'] = (1948, 2014)\n",
    "datasets['ncep']['vwnd_1000']['domain'] = [0, 360, -90, 90]\n",
    "datasets['ncep']['vwnd_1000']['plot'] = {}\n",
    "datasets['ncep']['vwnd_1000']['plot']['cmap'] = 'palettable.colorbrewer.diverging.PRGn_11.mpl_colormap'\n",
    "\n",
    "# NCEP: vwnd 850\n",
    "datasets['ncep']['vwnd_850'] = {}\n",
    "datasets['ncep']['vwnd_850']['path'] = '{}/NCEP1_monthly_wind_1948_2014.nc'.format(dpath)\n",
    "datasets['ncep']['vwnd_850']['description'] = 'meridional wind at 850 hPa'\n",
    "datasets['ncep']['vwnd_850']['short_description'] = 'vwnd850'\n",
    "datasets['ncep']['vwnd_850']['units'] = 'm/s'\n",
    "datasets['ncep']['vwnd_850']['valid_period'] = (1948, 2014)\n",
    "datasets['ncep']['vwnd_850']['domain'] = [0, 360, -90, 90]\n",
    "datasets['ncep']['vwnd_850']['plot'] = {}\n",
    "datasets['ncep']['vwnd_850']['plot']['cmap'] = 'palettable.colorbrewer.diverging.PRGn_11.mpl_colormap'\n",
    "\n",
    "# NCEP: vwnd 200\n",
    "datasets['ncep']['vwnd_200'] = {}\n",
    "datasets['ncep']['vwnd_200']['path'] = '{}/NCEP1_monthly_wind_1948_2014.nc'.format(dpath)\n",
    "datasets['ncep']['vwnd_200']['description'] = 'meridional wind at 200 hPa'\n",
    "datasets['ncep']['vwnd_200']['short_description'] = 'vwnd200'\n",
    "datasets['ncep']['vwnd_200']['units'] = 'm/s'\n",
    "datasets['ncep']['vwnd_200']['valid_period'] = (1948, 2014)\n",
    "datasets['ncep']['vwnd_200']['domain'] = [0, 360, -90, 90]\n",
    "datasets['ncep']['vwnd_200']['plot'] = {}\n",
    "datasets['ncep']['vwnd_200']['plot']['cmap'] = 'palettable.colorbrewer.diverging.PRGn_11.mpl_colormap'\n",
    "\n",
    "# NCEP: vwnd 200\n",
    "datasets['ncep']['Tmean'] = {}\n",
    "datasets['ncep']['Tmean']['path'] = '{}/NCEP1_monthly_Tmean_1948_2014.nc'.format(dpath)\n",
    "datasets['ncep']['Tmean']['description'] = 'Mean Temperature at 2m.'\n",
    "datasets['ncep']['Tmean']['short_description'] = 'T2m'\n",
    "datasets['ncep']['Tmean']['units'] = 'degrees C.'\n",
    "datasets['ncep']['Tmean']['valid_period'] = (1948, 2014)\n",
    "datasets['ncep']['Tmean']['domain'] = [0, 360, -90, 90]\n",
    "datasets['ncep']['Tmean']['plot'] = {}\n",
    "datasets['ncep']['Tmean']['plot']['cmap'] = 'palettable.colorbrewer.diverging.RdBu_11_r.mpl_colormap'"
   ]
  },
  {
   "cell_type": "code",
   "execution_count": 9,
   "metadata": {},
   "outputs": [],
   "source": [
    "with open('../../jsons/datasets.json', 'w') as f: \n",
    "    json.dump(datasets, f)"
   ]
  },
  {
   "cell_type": "markdown",
   "metadata": {},
   "source": [
    "### makes the JSON file for the Weather Regimes"
   ]
  },
  {
   "cell_type": "code",
   "execution_count": 4,
   "metadata": {},
   "outputs": [],
   "source": [
    "d = {}\n",
    "d['New Zealand'] = {}\n",
    "d['New Zealand']['Markov Chains'] = '{}/simulations_Kidson_types.hdf5'.format(dpath)\n",
    "d['New Zealand']['WR_TS'] = '{}/Kidson_Types.csv'.format(dpath)\n",
    "d['New Zealand']['types'] = ['T', 'SW', 'TNW', 'TSW', 'H', 'HNW', 'W', 'HSE', 'HE', 'NE', 'HW', 'R']\n",
    "d['New Zealand']['groups'] = {'Trough': ['T', 'SW', 'TNW', 'TSW'], 'Zonal': ['H', 'HNW', 'W'], 'Blocking':['HSE', 'HE', 'NE', 'HW', 'R']}\n",
    "\n",
    "d['SW Pacific'] = {}\n",
    "d['SW Pacific']['Markov Chains'] = '{}/simulations_SWPac_types.hdf5'.format(dpath)\n",
    "d['SW Pacific']['WR_TS'] = '{}/SWPac_Types.csv'.format(dpath)\n",
    "d['SW Pacific']['types'] = ['SW1', 'SW2', 'SW3', 'SW4', 'SW5', 'SW6']\n",
    "d['SW Pacific']['groups'] = None\n"
   ]
  },
  {
   "cell_type": "code",
   "execution_count": 5,
   "metadata": {
    "collapsed": true
   },
   "outputs": [],
   "source": [
    "with open('../../jsons/WRs.json', 'w') as f: \n",
    "    json.dump(d, f)"
   ]
  },
  {
   "cell_type": "markdown",
   "metadata": {},
   "source": [
    "### makes the JSON file for the climate indices"
   ]
  },
  {
   "cell_type": "code",
   "execution_count": 17,
   "metadata": {},
   "outputs": [],
   "source": [
    "d = {}\n",
    "d['NINO 3.4'] = {}\n",
    "d['NINO 3.4']['path'] = '{}/NINO34_monthly_1950_2015_1981_2010_Clim.csv'.format(dpath)\n",
    "d['NINO 3.4']['units'] = 'degrees C.'\n",
    "d['NINO 3.4']['period'] = (1948, 2014)\n",
    "d['NINO 3.4']['source'] = 'ERSST NINO3.4 from the Climate Prediction Center'\n",
    "\n",
    "d['SOI'] = {}\n",
    "d['SOI']['path'] = '{}/SOI_monthly_1876_2015_1981_2010_Clim.csv'.format(dpath)\n",
    "d['SOI']['units'] = 'std.'\n",
    "d['SOI']['period'] = (1948, 2014)\n",
    "d['SOI']['source'] = 'NIWA SOI'\n",
    "\n",
    "d['IOD'] = {}\n",
    "d['IOD']['path'] = '{}/IOD_1900_2014_1981_2010_Clim.csv'.format(dpath)\n",
    "d['IOD']['units'] = 'std.'\n",
    "d['IOD']['period'] = (1948, 2014)\n",
    "d['IOD']['source'] = 'ERSST IOD (NIWA)'\n",
    "\n",
    "d['SAM'] = {}\n",
    "d['SAM']['path'] = '{}/SAM_index_1948_2014_1981_2010_Clim.csv'.format(dpath)\n",
    "d['SAM']['units'] = 'std.'\n",
    "d['SAM']['period'] = (1948, 2014)\n",
    "d['SAM']['source'] = 'HGT700 EOF (NIWA)'"
   ]
  },
  {
   "cell_type": "code",
   "execution_count": 18,
   "metadata": {},
   "outputs": [],
   "source": [
    "with open('../../jsons/indices.json', 'w') as f: \n",
    "    json.dump(d, f)"
   ]
  },
  {
   "cell_type": "code",
   "execution_count": 19,
   "metadata": {},
   "outputs": [
    {
     "data": {
      "text/plain": [
       "{'IOD': {'path': '/Users/nicolasf/CODE/paleopy/data/IOD_1900_2014_1981_2010_Clim.csv',\n",
       "  'period': (1948, 2014),\n",
       "  'source': 'ERSST IOD (NIWA)',\n",
       "  'units': 'std.'},\n",
       " 'NINO 3.4': {'path': '/Users/nicolasf/CODE/paleopy/data/NINO34_monthly_1950_2015_1981_2010_Clim.csv',\n",
       "  'period': (1948, 2014),\n",
       "  'source': 'ERSST NINO3.4 from the Climate Prediction Center',\n",
       "  'units': 'degrees C.'},\n",
       " 'SAM': {'path': '/Users/nicolasf/CODE/paleopy/data/SAM_index_1948_2014_1981_2010_Clim.csv',\n",
       "  'period': (1948, 2014),\n",
       "  'source': 'HGT700 EOF (NIWA)',\n",
       "  'units': 'std.'},\n",
       " 'SOI': {'path': '/Users/nicolasf/CODE/paleopy/data/SOI_monthly_1876_2015_1981_2010_Clim.csv',\n",
       "  'period': (1948, 2014),\n",
       "  'source': 'NIWA SOI',\n",
       "  'units': 'std.'}}"
      ]
     },
     "execution_count": 19,
     "metadata": {},
     "output_type": "execute_result"
    }
   ],
   "source": [
    "d"
   ]
  },
  {
   "cell_type": "code",
   "execution_count": 13,
   "metadata": {},
   "outputs": [
    {
     "ename": "UnsupportedOperation",
     "evalue": "not readable",
     "output_type": "error",
     "traceback": [
      "\u001b[0;31m---------------------------------------------------------------------------\u001b[0m",
      "\u001b[0;31mUnsupportedOperation\u001b[0m                      Traceback (most recent call last)",
      "\u001b[0;32m<ipython-input-13-195f9f24951c>\u001b[0m in \u001b[0;36m<module>\u001b[0;34m()\u001b[0m\n\u001b[1;32m      1\u001b[0m \u001b[0;32mwith\u001b[0m \u001b[0mopen\u001b[0m\u001b[0;34m(\u001b[0m\u001b[0;34m'/Users/nicolasf/Desktop/datasets.json'\u001b[0m\u001b[0;34m,\u001b[0m \u001b[0;34m'w'\u001b[0m\u001b[0;34m)\u001b[0m \u001b[0;32mas\u001b[0m \u001b[0mf\u001b[0m\u001b[0;34m:\u001b[0m\u001b[0;34m\u001b[0m\u001b[0m\n\u001b[0;32m----> 2\u001b[0;31m     \u001b[0mjson\u001b[0m\u001b[0;34m.\u001b[0m\u001b[0mload\u001b[0m\u001b[0;34m(\u001b[0m\u001b[0mf\u001b[0m\u001b[0;34m)\u001b[0m\u001b[0;34m\u001b[0m\u001b[0m\n\u001b[0m",
      "\u001b[0;32m/Users/nicolasf/anaconda/envs/py3/lib/python3.5/json/__init__.py\u001b[0m in \u001b[0;36mload\u001b[0;34m(fp, cls, object_hook, parse_float, parse_int, parse_constant, object_pairs_hook, **kw)\u001b[0m\n\u001b[1;32m    263\u001b[0m \u001b[0;34m\u001b[0m\u001b[0m\n\u001b[1;32m    264\u001b[0m     \"\"\"\n\u001b[0;32m--> 265\u001b[0;31m     return loads(fp.read(),\n\u001b[0m\u001b[1;32m    266\u001b[0m         \u001b[0mcls\u001b[0m\u001b[0;34m=\u001b[0m\u001b[0mcls\u001b[0m\u001b[0;34m,\u001b[0m \u001b[0mobject_hook\u001b[0m\u001b[0;34m=\u001b[0m\u001b[0mobject_hook\u001b[0m\u001b[0;34m,\u001b[0m\u001b[0;34m\u001b[0m\u001b[0m\n\u001b[1;32m    267\u001b[0m         \u001b[0mparse_float\u001b[0m\u001b[0;34m=\u001b[0m\u001b[0mparse_float\u001b[0m\u001b[0;34m,\u001b[0m \u001b[0mparse_int\u001b[0m\u001b[0;34m=\u001b[0m\u001b[0mparse_int\u001b[0m\u001b[0;34m,\u001b[0m\u001b[0;34m\u001b[0m\u001b[0m\n",
      "\u001b[0;31mUnsupportedOperation\u001b[0m: not readable"
     ]
    }
   ],
   "source": [
    "with open('/Users/nicolasf/Desktop/datasets.json', 'w') as f: \n",
    "    json.load(f)"
   ]
  },
  {
   "cell_type": "code",
   "execution_count": 16,
   "metadata": {},
   "outputs": [],
   "source": [
    "awao = {\n",
    "    \"awap\": {\n",
    "        \"Rain\": {\n",
    "            \"path\": \" /data/pict/datasets/AWAP_monthly_Rain_1972_2014.nc\",\n",
    "            \"units\": \"mm\",\n",
    "            \"valid_period\": [\n",
    "                1972,\n",
    "                2014\n",
    "            ],\n",
    "            \"description\": \"cumulative seasonal precipitation\",\n",
    "            \"plot\": {\n",
    "                \"cmap\": \"palettable.colorbrewer.diverging.BrBG_11.mpl_colormap\"\n",
    "            },\n",
    "            \"domain\": [\n",
    "                166.4,\n",
    "                178.5,\n",
    "                -47.4,\n",
    "                -34.4\n",
    "            ]\n",
    "        },\n",
    "        \"TMean\": {\n",
    "            \"path\": \" /data/pict/datasets/AWAP_monthly_TMean_1972_2014.nc\",\n",
    "            \"units\": \"degrees C.\",\n",
    "            \"valid_period\": [\n",
    "                1972,\n",
    "                2014\n",
    "            ],\n",
    "            \"description\": \"Mean temperature\",\n",
    "            \"plot\": {\n",
    "                \"cmap\": \"palettable.colorbrewer.diverging.RdBu_11_r.mpl_colormap\"\n",
    "            },\n",
    "            \"domain\": [\n",
    "                166.4,\n",
    "                178.5,\n",
    "                -44.5,\n",
    "                -10\n",
    "            ]\n",
    "        }\n",
    "        }\n",
    "    }"
   ]
  },
  {
   "cell_type": "code",
   "execution_count": 19,
   "metadata": {},
   "outputs": [
    {
     "data": {
      "text/plain": [
       "{'Rain': {'description': 'cumulative seasonal precipitation',\n",
       "  'domain': [166.4, 178.5, -47.4, -34.4],\n",
       "  'path': ' /data/pict/datasets/AWAP_monthly_Rain_1972_2014.nc',\n",
       "  'plot': {'cmap': 'palettable.colorbrewer.diverging.BrBG_11.mpl_colormap'},\n",
       "  'units': 'mm',\n",
       "  'valid_period': [1972, 2014]},\n",
       " 'TMean': {'description': 'Mean temperature',\n",
       "  'domain': [166.4, 178.5, -44.5, -10],\n",
       "  'path': ' /data/pict/datasets/AWAP_monthly_TMean_1972_2014.nc',\n",
       "  'plot': {'cmap': 'palettable.colorbrewer.diverging.RdBu_11_r.mpl_colormap'},\n",
       "  'units': 'degrees C.',\n",
       "  'valid_period': [1972, 2014]}}"
      ]
     },
     "execution_count": 19,
     "metadata": {},
     "output_type": "execute_result"
    }
   ],
   "source": [
    "awao['awap']"
   ]
  },
  {
   "cell_type": "code",
   "execution_count": null,
   "metadata": {
    "collapsed": true
   },
   "outputs": [],
   "source": []
  }
 ],
 "metadata": {
  "anaconda-cloud": {},
  "kernelspec": {
   "display_name": "Python [default]",
   "language": "python",
   "name": "python3"
  },
  "language_info": {
   "codemirror_mode": {
    "name": "ipython",
    "version": 3
   },
   "file_extension": ".py",
   "mimetype": "text/x-python",
   "name": "python",
   "nbconvert_exporter": "python",
   "pygments_lexer": "ipython3",
   "version": "3.5.2"
  },
  "latex_envs": {
   "bibliofile": "biblio.bib",
   "cite_by": "apalike",
   "current_citInitial": 1,
   "eqLabelWithNumbers": true,
   "eqNumInitial": 0
  },
  "nav_menu": {},
  "toc": {
   "colors": {
    "hover_highlight": "#DAA520",
    "running_highlight": "#FF0000",
    "selected_highlight": "#FFD700"
   },
   "moveMenuLeft": true,
   "nav_menu": {
    "height": "121px",
    "width": "252px"
   },
   "navigate_menu": true,
   "number_sections": true,
   "sideBar": true,
   "threshold": 4,
   "toc_cell": false,
   "toc_section_display": "block",
   "toc_window_display": false,
   "widenNotebook": false
  }
 },
 "nbformat": 4,
 "nbformat_minor": 1
}
